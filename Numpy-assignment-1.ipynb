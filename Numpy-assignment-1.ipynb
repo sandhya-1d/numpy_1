{
 "cells": [
  {
   "cell_type": "markdown",
   "metadata": {
    "deletable": true,
    "editable": true
   },
   "source": [
    "# Numpy: Assignment"
   ]
  },
  {
   "cell_type": "markdown",
   "metadata": {
    "deletable": true,
    "editable": true
   },
   "source": [
    "## Load library"
   ]
  },
  {
   "cell_type": "code",
   "execution_count": 1,
   "metadata": {
    "collapsed": true,
    "deletable": true,
    "editable": true
   },
   "outputs": [],
   "source": [
    "import numpy as np"
   ]
  },
  {
   "cell_type": "markdown",
   "metadata": {
    "deletable": true,
    "editable": true
   },
   "source": [
    "## Create Two numpy arrays with list, arange and array"
   ]
  },
  {
   "cell_type": "code",
   "execution_count": 2,
   "metadata": {
    "collapsed": false,
    "deletable": true,
    "editable": true
   },
   "outputs": [
    {
     "data": {
      "text/plain": [
       "(array([[1, 2, 5],\n",
       "        [3, 4, 6]]), array([[ 7,  8,  9],\n",
       "        [10, 11, 12]]), array([[1, 2],\n",
       "        [3, 4],\n",
       "        [5, 6]]))"
      ]
     },
     "execution_count": 2,
     "metadata": {},
     "output_type": "execute_result"
    }
   ],
   "source": [
    "list_1 = [[1,2,5],[3,4,6]]\n",
    "narray_1 = np.array(list_1)\n",
    "narray_2 = np.arange(7,13).reshape(2,3)\n",
    "narray_3 = np.array([[1,2],[3,4],[5,6]])\n",
    "narray_1, narray_2, narray_3"
   ]
  },
  {
   "cell_type": "markdown",
   "metadata": {
    "deletable": true,
    "editable": true
   },
   "source": [
    "## 1.Find minimum in np array"
   ]
  },
  {
   "cell_type": "code",
   "execution_count": 3,
   "metadata": {
    "collapsed": false,
    "deletable": true,
    "editable": true
   },
   "outputs": [
    {
     "data": {
      "text/plain": [
       "(1, array([1, 3]), array([1, 2, 5]))"
      ]
     },
     "execution_count": 3,
     "metadata": {},
     "output_type": "execute_result"
    }
   ],
   "source": [
    "min_of_narray_1 = narray_1.min()\n",
    "min_of_narray_1_row = narray_1.min(axis=1)\n",
    "min_of_narray_1_col = narray_1.min(axis=0)\n",
    "min_of_narray_1, min_of_narray_1_row, min_of_narray_1_col"
   ]
  },
  {
   "cell_type": "markdown",
   "metadata": {
    "deletable": true,
    "editable": true
   },
   "source": [
    "## 2.Find maximum in np array"
   ]
  },
  {
   "cell_type": "code",
   "execution_count": 4,
   "metadata": {
    "collapsed": false,
    "deletable": true,
    "editable": true
   },
   "outputs": [
    {
     "data": {
      "text/plain": [
       "(6, array([5, 6]), array([3, 4, 6]))"
      ]
     },
     "execution_count": 4,
     "metadata": {},
     "output_type": "execute_result"
    }
   ],
   "source": [
    "max_of_narray_1 = narray_1.max()\n",
    "max_of_narray_1_row = narray_1.max(axis=1)\n",
    "max_of_narray_1_col = narray_1.max(axis=0)\n",
    "max_of_narray_1, max_of_narray_1_row, max_of_narray_1_col"
   ]
  },
  {
   "cell_type": "markdown",
   "metadata": {
    "deletable": true,
    "editable": true
   },
   "source": [
    "## 3.Mean"
   ]
  },
  {
   "cell_type": "code",
   "execution_count": 5,
   "metadata": {
    "collapsed": false,
    "deletable": true,
    "editable": true
   },
   "outputs": [
    {
     "data": {
      "text/plain": [
       "(3.5, array([ 2.66666667,  4.33333333]), array([ 2. ,  3. ,  5.5]))"
      ]
     },
     "execution_count": 5,
     "metadata": {},
     "output_type": "execute_result"
    }
   ],
   "source": [
    "mean_of_narray_1 = narray_1.mean()\n",
    "mean_of_narray_1_row = narray_1.mean(axis=1)\n",
    "mean_of_narray_1_col = narray_1.mean(axis=0)\n",
    "mean_of_narray_1, mean_of_narray_1_row, mean_of_narray_1_col"
   ]
  },
  {
   "cell_type": "markdown",
   "metadata": {
    "deletable": true,
    "editable": true
   },
   "source": [
    "## 4.Argmin: Index of min value"
   ]
  },
  {
   "cell_type": "code",
   "execution_count": 6,
   "metadata": {
    "collapsed": false,
    "deletable": true,
    "editable": true
   },
   "outputs": [
    {
     "data": {
      "text/plain": [
       "(0, array([0, 0]), array([0, 0, 0]))"
      ]
     },
     "execution_count": 6,
     "metadata": {},
     "output_type": "execute_result"
    }
   ],
   "source": [
    "argmin_of_narray_1 = np.argmin(narray_1)\n",
    "argmin_of_narray_1_row = np.argmin(narray_1, axis=1)\n",
    "argmin_of_narray_1_col = np.argmin(narray_1, axis=0)\n",
    "argmin_of_narray_1, argmin_of_narray_1_row, argmin_of_narray_1_col"
   ]
  },
  {
   "cell_type": "markdown",
   "metadata": {
    "deletable": true,
    "editable": true
   },
   "source": [
    "## 5.Argmax: Index of max value"
   ]
  },
  {
   "cell_type": "code",
   "execution_count": 7,
   "metadata": {
    "collapsed": false,
    "deletable": true,
    "editable": true
   },
   "outputs": [
    {
     "data": {
      "text/plain": [
       "(5, array([2, 2]), array([1, 1, 1]))"
      ]
     },
     "execution_count": 7,
     "metadata": {},
     "output_type": "execute_result"
    }
   ],
   "source": [
    "argmax_of_narray_1 = np.argmax(narray_1)\n",
    "argmax_of_narray_1_row = np.argmax(narray_1, axis=1)\n",
    "argmax_of_narray_1_col = np.argmax(narray_1, axis=0)\n",
    "argmax_of_narray_1, argmax_of_narray_1_row, argmax_of_narray_1_col"
   ]
  },
  {
   "cell_type": "markdown",
   "metadata": {
    "deletable": true,
    "editable": true
   },
   "source": [
    "## 6.Linalg: Solve linear equations"
   ]
  },
  {
   "cell_type": "code",
   "execution_count": 19,
   "metadata": {
    "collapsed": false,
    "deletable": true,
    "editable": true
   },
   "outputs": [
    {
     "data": {
      "text/plain": [
       "array([-0.89552239,  1.73134328,  0.85074627])"
      ]
     },
     "execution_count": 19,
     "metadata": {},
     "output_type": "execute_result"
    }
   ],
   "source": [
    "#AX = b\n",
    "A = np.array([[5,4,3], [1,3,2], [7,2,8]])\n",
    "B = np.array([5,6,4])\n",
    "X = np.linalg.solve(A, B)\n",
    "X"
   ]
  },
  {
   "cell_type": "markdown",
   "metadata": {
    "deletable": true,
    "editable": true
   },
   "source": [
    "## 7.Flat or 1-d array"
   ]
  },
  {
   "cell_type": "code",
   "execution_count": 9,
   "metadata": {
    "collapsed": false,
    "deletable": true,
    "editable": true
   },
   "outputs": [
    {
     "data": {
      "text/plain": [
       "array([1, 2, 5, 3, 4, 6])"
      ]
     },
     "execution_count": 9,
     "metadata": {},
     "output_type": "execute_result"
    }
   ],
   "source": [
    "flat_narray_1 = narray_1.flatten()\n",
    "flat_narray_1"
   ]
  },
  {
   "cell_type": "markdown",
   "metadata": {
    "deletable": true,
    "editable": true
   },
   "source": [
    "## 8.Ravel"
   ]
  },
  {
   "cell_type": "code",
   "execution_count": 23,
   "metadata": {
    "collapsed": false,
    "deletable": true,
    "editable": true
   },
   "outputs": [
    {
     "data": {
      "text/plain": [
       "(array([1, 2, 5, 3, 4, 6]),\n",
       " array([1, 3, 2, 4, 5, 6]),\n",
       " array([1, 2, 5, 3, 4, 6]),\n",
       " array([1, 2, 5, 3, 4, 6]))"
      ]
     },
     "execution_count": 23,
     "metadata": {},
     "output_type": "execute_result"
    }
   ],
   "source": [
    "row_wise_flat = np.ravel(narray_1, order='C')\n",
    "col_wise_flat = np.ravel(narray_1, order='F')\n",
    "a_wise_flat = np.ravel(narray_1, order='A')\n",
    "mem_wise_flat = np.ravel(narray_1, order='K')\n",
    "row_wise_flat, col_wise_flat, a_wise_flat, mem_wise_flat"
   ]
  },
  {
   "cell_type": "markdown",
   "metadata": {
    "collapsed": true,
    "deletable": true,
    "editable": true
   },
   "source": [
    "## 9.Dot or Matrix product"
   ]
  },
  {
   "cell_type": "code",
   "execution_count": 10,
   "metadata": {
    "collapsed": false,
    "deletable": true,
    "editable": true
   },
   "outputs": [
    {
     "data": {
      "text/plain": [
       "(array([[32, 40],\n",
       "        [45, 58]]), array([[ 76, 100],\n",
       "        [103, 136]]))"
      ]
     },
     "execution_count": 10,
     "metadata": {},
     "output_type": "execute_result"
    }
   ],
   "source": [
    "dot_narray13 = narray_1.dot(narray_3)\n",
    "dot_narray23 = np.dot(narray_2,narray_3)\n",
    "dot_narray13, dot_narray23"
   ]
  },
  {
   "cell_type": "markdown",
   "metadata": {
    "deletable": true,
    "editable": true
   },
   "source": [
    "## 10.Element-wise Multiplication"
   ]
  },
  {
   "cell_type": "code",
   "execution_count": 11,
   "metadata": {
    "collapsed": false,
    "deletable": true,
    "editable": true
   },
   "outputs": [
    {
     "data": {
      "text/plain": [
       "array([[ 7, 16, 45],\n",
       "       [30, 44, 72]])"
      ]
     },
     "execution_count": 11,
     "metadata": {},
     "output_type": "execute_result"
    }
   ],
   "source": [
    "element_mulp12 = narray_1 * narray_2\n",
    "element_mulp12"
   ]
  },
  {
   "cell_type": "markdown",
   "metadata": {
    "deletable": true,
    "editable": true
   },
   "source": [
    "## 11.Arange and Reshape"
   ]
  },
  {
   "cell_type": "code",
   "execution_count": 12,
   "metadata": {
    "collapsed": false,
    "deletable": true,
    "editable": true
   },
   "outputs": [
    {
     "data": {
      "text/plain": [
       "(array([  7. ,   7.5,   8. ,   8.5,   9. ,   9.5,  10. ,  10.5,  11. ,\n",
       "         11.5,  12. ,  12.5]), array([[  7. ,   7.5,   8. ,   8.5],\n",
       "        [  9. ,   9.5,  10. ,  10.5],\n",
       "        [ 11. ,  11.5,  12. ,  12.5]]))"
      ]
     },
     "execution_count": 12,
     "metadata": {},
     "output_type": "execute_result"
    }
   ],
   "source": [
    "arange_array = np.arange(7,13,0.5)\n",
    "reshape_array = arange_array.reshape(3,-1)\n",
    "arange_array, reshape_array"
   ]
  },
  {
   "cell_type": "markdown",
   "metadata": {
    "deletable": true,
    "editable": true
   },
   "source": [
    "## 12.Identity/Eye"
   ]
  },
  {
   "cell_type": "code",
   "execution_count": 13,
   "metadata": {
    "collapsed": false,
    "deletable": true,
    "editable": true
   },
   "outputs": [
    {
     "data": {
      "text/plain": [
       "array([[ 1.,  0.,  0.],\n",
       "       [ 0.,  1.,  0.],\n",
       "       [ 0.,  0.,  1.]])"
      ]
     },
     "execution_count": 13,
     "metadata": {},
     "output_type": "execute_result"
    }
   ],
   "source": [
    "eye_array = np.eye(3,3)\n",
    "eye_array"
   ]
  },
  {
   "cell_type": "markdown",
   "metadata": {
    "deletable": true,
    "editable": true
   },
   "source": [
    "## 13.Sum"
   ]
  },
  {
   "cell_type": "code",
   "execution_count": 14,
   "metadata": {
    "collapsed": false,
    "deletable": true,
    "editable": true
   },
   "outputs": [
    {
     "data": {
      "text/plain": [
       "(21, array([ 8, 13]), array([ 4,  6, 11]), array([[ 8, 10, 14],\n",
       "        [13, 15, 18]]))"
      ]
     },
     "execution_count": 14,
     "metadata": {},
     "output_type": "execute_result"
    }
   ],
   "source": [
    "sum_of_narray_1 = narray_1.sum()\n",
    "sum_of_narray_1_row = narray_1.sum(axis=1)\n",
    "sum_of_narray_1_col = narray_1.sum(axis=0)\n",
    "element_sum_narray12 = narray_1 + narray_2\n",
    "sum_of_narray_1, sum_of_narray_1_row, sum_of_narray_1_col, element_sum_narray12"
   ]
  },
  {
   "cell_type": "markdown",
   "metadata": {
    "deletable": true,
    "editable": true
   },
   "source": [
    "## 14.Diagonal"
   ]
  },
  {
   "cell_type": "code",
   "execution_count": 15,
   "metadata": {
    "collapsed": false,
    "deletable": true,
    "editable": true
   },
   "outputs": [
    {
     "data": {
      "text/plain": [
       "(array([1, 4]), array([2, 6]), array([5]), array([3]))"
      ]
     },
     "execution_count": 15,
     "metadata": {},
     "output_type": "execute_result"
    }
   ],
   "source": [
    "diag_narray1_col0 = np.diag(narray_1, k=0)\n",
    "diag_narray1_col1 = np.diag(narray_1, k=1)\n",
    "diag_narray1_col2 = np.diag(narray_1, k=2)\n",
    "diag_narray1_col_last = np.diag(narray_1, k=-1)\n",
    "diag_narray1_col0, diag_narray1_col1, diag_narray1_col2, diag_narray1_col_last"
   ]
  },
  {
   "cell_type": "markdown",
   "metadata": {
    "deletable": true,
    "editable": true
   },
   "source": [
    "## 15.Tril: Lower triangle"
   ]
  },
  {
   "cell_type": "code",
   "execution_count": 16,
   "metadata": {
    "collapsed": false,
    "deletable": true,
    "editable": true
   },
   "outputs": [
    {
     "data": {
      "text/plain": [
       "(array([[1, 0, 0],\n",
       "        [3, 4, 0]]), array([[1, 2, 0],\n",
       "        [3, 4, 6]]), array([[1, 2, 5],\n",
       "        [3, 4, 6]]), array([[0, 0, 0],\n",
       "        [3, 0, 0]]))"
      ]
     },
     "execution_count": 16,
     "metadata": {},
     "output_type": "execute_result"
    }
   ],
   "source": [
    "tril_narray1_diag0 = np.tril(narray_1, k=0)\n",
    "tril_narray1_diag1 = np.tril(narray_1, k=1)\n",
    "tril_narray1_diag2 = np.tril(narray_1, k=2)\n",
    "tril_narray1_diag_last = np.tril(narray_1, k=-1)\n",
    "tril_narray1_diag0, tril_narray1_diag1, tril_narray1_diag2, tril_narray1_diag_last"
   ]
  },
  {
   "cell_type": "markdown",
   "metadata": {
    "deletable": true,
    "editable": true
   },
   "source": [
    "## 16.Triu: Upper triangle"
   ]
  },
  {
   "cell_type": "code",
   "execution_count": 17,
   "metadata": {
    "collapsed": false,
    "deletable": true,
    "editable": true
   },
   "outputs": [
    {
     "data": {
      "text/plain": [
       "(array([[1, 2, 5],\n",
       "        [0, 4, 6]]), array([[0, 2, 5],\n",
       "        [0, 0, 6]]), array([[0, 0, 5],\n",
       "        [0, 0, 0]]), array([[1, 2, 5],\n",
       "        [3, 4, 6]]))"
      ]
     },
     "execution_count": 17,
     "metadata": {},
     "output_type": "execute_result"
    }
   ],
   "source": [
    "triu_narray1_diag0 = np.triu(narray_1, k=0)\n",
    "triu_narray1_diag1 = np.triu(narray_1, k=1)\n",
    "triu_narray1_diag2 = np.triu(narray_1, k=2)\n",
    "triu_narray1_diag_last = np.triu(narray_1, k=-1)\n",
    "triu_narray1_diag0, triu_narray1_diag1, triu_narray1_diag2, triu_narray1_diag_last"
   ]
  },
  {
   "cell_type": "code",
   "execution_count": null,
   "metadata": {
    "collapsed": true,
    "deletable": true,
    "editable": true
   },
   "outputs": [],
   "source": []
  }
 ],
 "metadata": {
  "kernelspec": {
   "display_name": "Python 3",
   "language": "python",
   "name": "python3"
  },
  "language_info": {
   "codemirror_mode": {
    "name": "ipython",
    "version": 3
   },
   "file_extension": ".py",
   "mimetype": "text/x-python",
   "name": "python",
   "nbconvert_exporter": "python",
   "pygments_lexer": "ipython3",
   "version": "3.5.2"
  }
 },
 "nbformat": 4,
 "nbformat_minor": 2
}
