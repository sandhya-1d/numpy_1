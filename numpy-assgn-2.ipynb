{
 "cells": [
  {
   "cell_type": "markdown",
   "metadata": {},
   "source": [
    "# numpy-assignement-2(own-implementation)"
   ]
  },
  {
   "cell_type": "markdown",
   "metadata": {
    "deletable": true,
    "editable": true
   },
   "source": [
    "## Import Libraries"
   ]
  },
  {
   "cell_type": "code",
   "execution_count": 2,
   "metadata": {
    "collapsed": true,
    "deletable": true,
    "editable": true
   },
   "outputs": [],
   "source": [
    "import numpy as np\n"
   ]
  },
  {
   "cell_type": "markdown",
   "metadata": {
    "deletable": true,
    "editable": true
   },
   "source": [
    "## Create arrays"
   ]
  },
  {
   "cell_type": "code",
   "execution_count": 3,
   "metadata": {
    "collapsed": false,
    "deletable": true,
    "editable": true
   },
   "outputs": [],
   "source": [
    "narray_1 = np.array([[1,2],[3,4]])\n",
    "narray_2 = np.array([[5,6],[7,8]])\n",
    "array_size = narray_1.size\n",
    "r,c = narray_1.shape"
   ]
  },
  {
   "cell_type": "markdown",
   "metadata": {
    "deletable": true,
    "editable": true
   },
   "source": [
    "## find min_element,max_element,min_index,max_index"
   ]
  },
  {
   "cell_type": "code",
   "execution_count": 17,
   "metadata": {
    "collapsed": false,
    "deletable": true,
    "editable": true
   },
   "outputs": [
    {
     "data": {
      "text/plain": [
       "(1, 4, 0, 3)"
      ]
     },
     "execution_count": 17,
     "metadata": {},
     "output_type": "execute_result"
    }
   ],
   "source": [
    "min_element = narray_1[0,0]\n",
    "max_element = narray_1[0,0]\n",
    "min_index = 0\n",
    "max_index = 0\n",
    "counter = 0\n",
    "for i in range(0,r):\n",
    "    for j in range(0,c):\n",
    "        if narray_1[i,j] <  min_element:\n",
    "            min_element = narray_1[i,j]\n",
    "            min_index = counter\n",
    "            counter+=1\n",
    "        elif narray_1[i,j] > max_element:\n",
    "            max_element = narray_1[i,j]\n",
    "            max_index = counter\n",
    "            counter+=1\n",
    "        else:\n",
    "            counter+=1\n",
    "min_element, max_element, min_index, max_index"
   ]
  },
  {
   "cell_type": "markdown",
   "metadata": {
    "deletable": true,
    "editable": true
   },
   "source": [
    "## find min_element,max_element,min_index,max_index along row"
   ]
  },
  {
   "cell_type": "code",
   "execution_count": 10,
   "metadata": {
    "collapsed": false,
    "deletable": true,
    "editable": true
   },
   "outputs": [
    {
     "data": {
      "text/plain": [
       "([1, 3], [2, 4], [0, 0], [1, 1])"
      ]
     },
     "execution_count": 10,
     "metadata": {},
     "output_type": "execute_result"
    }
   ],
   "source": [
    "row_min_element = [0] * r\n",
    "row_max_element = [0] * r\n",
    "row_min_index = [0] * r\n",
    "row_max_index = [0] * r\n",
    "row_counter = 0\n",
    "for i in range(0,r):\n",
    "    row_min_element[i] = narray_1[i,0]\n",
    "    row_max_element[i] = narray_1[i,0]\n",
    "    for j in range(0,c):\n",
    "        if narray_1[i,j] <=  row_min_element[i]:\n",
    "            row_min_element[i] = narray_1[i,j]\n",
    "            row_min_index[i] = j\n",
    "        elif narray_1[i,j] > row_max_element[i]:\n",
    "            row_max_element[i] = narray_1[i,j]\n",
    "            row_max_index[i] = j\n",
    "    \n",
    "            \n",
    "row_min_element, row_max_element, row_min_index, row_max_index"
   ]
  },
  {
   "cell_type": "markdown",
   "metadata": {
    "deletable": true,
    "editable": true
   },
   "source": [
    "## find min_element,max_element,min_index,max_index along column"
   ]
  },
  {
   "cell_type": "code",
   "execution_count": 11,
   "metadata": {
    "collapsed": false,
    "deletable": true,
    "editable": true
   },
   "outputs": [
    {
     "data": {
      "text/plain": [
       "([1, 2], [3, 4], [0, 0], [1, 1])"
      ]
     },
     "execution_count": 11,
     "metadata": {},
     "output_type": "execute_result"
    }
   ],
   "source": [
    "col_min_element = [0] * c\n",
    "col_max_element = [0] * c\n",
    "col_min_index = [0] * c\n",
    "col_max_index = [0] * c \n",
    "col_counter = 0\n",
    "for j in range(0,c):\n",
    "    col_min_element[j] = narray_1[0,j]\n",
    "    col_max_element[j] = narray_1[0,j]\n",
    "    for i in range(0,r):\n",
    "        if narray_1[i,j] <=  col_min_element[i]:\n",
    "            col_min_element[j] = narray_1[i,j]\n",
    "            col_min_index[j] = i\n",
    "        elif narray_1[i,j] > col_max_element[i]:\n",
    "            col_max_element[j] = narray_1[i,j]\n",
    "            col_max_index[j] = i\n",
    "\n",
    "            \n",
    "            \n",
    "col_min_element, col_max_element, col_min_index, col_max_index"
   ]
  },
  {
   "cell_type": "markdown",
   "metadata": {
    "collapsed": true,
    "deletable": true,
    "editable": true
   },
   "source": [
    "## Mean and Sum of elements and flatten"
   ]
  },
  {
   "cell_type": "code",
   "execution_count": 30,
   "metadata": {
    "collapsed": false,
    "deletable": true,
    "editable": true
   },
   "outputs": [
    {
     "data": {
      "text/plain": [
       "(10, 2.5, [1, 2, 3, 4])"
      ]
     },
     "execution_count": 30,
     "metadata": {},
     "output_type": "execute_result"
    }
   ],
   "source": [
    "mean = 0\n",
    "sum_of_elements = 0\n",
    "list_1 = []\n",
    "for i in range(0,r):\n",
    "    for j in range(0,c):\n",
    "        sum_of_elements+= narray_1[i,j]\n",
    "        list_1.append(narray_1[i,j])\n",
    "mean = sum_of_elements / array_size\n",
    "sum_of_elements, mean, list_1\n",
    "        "
   ]
  },
  {
   "cell_type": "markdown",
   "metadata": {
    "deletable": true,
    "editable": true
   },
   "source": [
    "## Mean and Sum of elements along row"
   ]
  },
  {
   "cell_type": "code",
   "execution_count": 36,
   "metadata": {
    "collapsed": false,
    "deletable": true,
    "editable": true
   },
   "outputs": [
    {
     "data": {
      "text/plain": [
       "([3, 7], [1.5, 3.5])"
      ]
     },
     "execution_count": 36,
     "metadata": {},
     "output_type": "execute_result"
    }
   ],
   "source": [
    "row_mean = []\n",
    "row_sum_list = []\n",
    "for i in range(0,r):\n",
    "    row_sum = 0\n",
    "    for j in range(0,c):\n",
    "        row_sum+=narray_1[i,j]\n",
    "    row_sum_list.append(row_sum)\n",
    "    row_mean.append(row_sum / c)\n",
    "row_sum_list, row_mean    "
   ]
  },
  {
   "cell_type": "markdown",
   "metadata": {
    "deletable": true,
    "editable": true
   },
   "source": [
    "## Mean, Sum of elements  and flatten along col"
   ]
  },
  {
   "cell_type": "code",
   "execution_count": 38,
   "metadata": {
    "collapsed": false,
    "deletable": true,
    "editable": true
   },
   "outputs": [
    {
     "data": {
      "text/plain": [
       "([4, 6], [2.0, 3.0], [1, 3, 2, 4])"
      ]
     },
     "execution_count": 38,
     "metadata": {},
     "output_type": "execute_result"
    }
   ],
   "source": [
    "col_mean = []\n",
    "col_list = []\n",
    "col_sum_list = []\n",
    "for j in range(0,c):\n",
    "    col_sum = 0\n",
    "    for i in range(0,r):\n",
    "        col_sum+=narray_1[i,j]\n",
    "        col_list.append(narray_1[i,j])\n",
    "    col_sum_list.append(col_sum)\n",
    "    col_mean.append(col_sum / r)\n",
    "col_sum_list, col_mean, col_list    "
   ]
  },
  {
   "cell_type": "markdown",
   "metadata": {
    "deletable": true,
    "editable": true
   },
   "source": [
    "## Element-wise product"
   ]
  },
  {
   "cell_type": "code",
   "execution_count": 7,
   "metadata": {
    "collapsed": false,
    "deletable": true,
    "editable": true
   },
   "outputs": [
    {
     "data": {
      "text/plain": [
       "array([[  5.,  12.],\n",
       "       [ 21.,  32.]])"
      ]
     },
     "execution_count": 7,
     "metadata": {},
     "output_type": "execute_result"
    }
   ],
   "source": [
    "element_product_array = np.empty((2,2))\n",
    "for i in range(0,r):\n",
    "    for j in range(0,c):\n",
    "        element_product_array[i,j] = narray_1[i,j] * narray_2[i,j]\n",
    "element_product_array       "
   ]
  },
  {
   "cell_type": "markdown",
   "metadata": {},
   "source": [
    "## Dot or Matrix product"
   ]
  },
  {
   "cell_type": "code",
   "execution_count": 7,
   "metadata": {
    "collapsed": false,
    "deletable": true,
    "editable": true
   },
   "outputs": [
    {
     "data": {
      "text/plain": [
       "array([[ 19.,  22.],\n",
       "       [ 43.,  50.]])"
      ]
     },
     "execution_count": 7,
     "metadata": {},
     "output_type": "execute_result"
    }
   ],
   "source": [
    "r1, c1 = narray_1.shape\n",
    "r2, c2 = narray_2.shape\n",
    "dot_product_array = np.empty((r1,c2))\n",
    "\n",
    "for i in range(0,r1):\n",
    "    for k in range(0,c1):\n",
    "        sum=0\n",
    "        for j in range(0,c2):\n",
    "            sum+=narray_1[i,j] * narray_2[j,k]\n",
    "        dot_product_array[i,k] = sum\n",
    "dot_product_array           "
   ]
  },
  {
   "cell_type": "markdown",
   "metadata": {},
   "source": [
    "## Reshape array"
   ]
  },
  {
   "cell_type": "code",
   "execution_count": 6,
   "metadata": {
    "collapsed": false,
    "deletable": true,
    "editable": true
   },
   "outputs": [
    {
     "data": {
      "text/plain": [
       "array([[ 1.,  2.,  3.,  4.]])"
      ]
     },
     "execution_count": 6,
     "metadata": {},
     "output_type": "execute_result"
    }
   ],
   "source": [
    "\n",
    "reshape_r = 1\n",
    "reshape_c = 4\n",
    "reshape_array = np.zeros((reshape_r, reshape_c))\n",
    "k = 0\n",
    "l = 0\n",
    "while((k<reshape_r) & (l<reshape_c)):\n",
    "    for i in range(0,r):\n",
    "        for j in range(0,c):\n",
    "            reshape_array[k,l] = narray_1[i,j]\n",
    "            #print(reshape_array)\n",
    "            if (l<reshape_c-1):\n",
    "                l+=1\n",
    "            else:\n",
    "                l=0\n",
    "                if(k<reshape_r):\n",
    "                    k+=1\n",
    "reshape_array        "
   ]
  },
  {
   "cell_type": "markdown",
   "metadata": {
    "deletable": true,
    "editable": true
   },
   "source": [
    "## diag"
   ]
  },
  {
   "cell_type": "code",
   "execution_count": 10,
   "metadata": {
    "collapsed": false,
    "deletable": true,
    "editable": true
   },
   "outputs": [
    {
     "data": {
      "text/plain": [
       "array([[ 1.,  0.],\n",
       "       [ 0.,  4.]])"
      ]
     },
     "execution_count": 10,
     "metadata": {},
     "output_type": "execute_result"
    }
   ],
   "source": [
    "\n",
    "diag_array = np.empty((2,2))\n",
    "for i in range(0,r):\n",
    "    for j in range(0,c):\n",
    "        if i == j:\n",
    "            diag_array[i,j] = narray_1[i,j]           \n",
    "diag_array       "
   ]
  },
  {
   "cell_type": "markdown",
   "metadata": {
    "deletable": true,
    "editable": true
   },
   "source": [
    "## tril"
   ]
  },
  {
   "cell_type": "code",
   "execution_count": 11,
   "metadata": {
    "collapsed": false,
    "deletable": true,
    "editable": true
   },
   "outputs": [
    {
     "data": {
      "text/plain": [
       "array([[ 1.,  2.],\n",
       "       [ 0.,  4.]])"
      ]
     },
     "execution_count": 11,
     "metadata": {},
     "output_type": "execute_result"
    }
   ],
   "source": [
    "#tril\n",
    "tril_array = np.empty((2,2))\n",
    "for i in range(0,r):\n",
    "    for j in range(0,c):\n",
    "        if i <= j:\n",
    "            tril_array[i,j] = narray_1[i,j]           \n",
    "tril_array       "
   ]
  },
  {
   "cell_type": "markdown",
   "metadata": {
    "deletable": true,
    "editable": true
   },
   "source": [
    "## triu"
   ]
  },
  {
   "cell_type": "code",
   "execution_count": 12,
   "metadata": {
    "collapsed": false,
    "deletable": true,
    "editable": true
   },
   "outputs": [
    {
     "data": {
      "text/plain": [
       "array([[ 1.,  0.],\n",
       "       [ 3.,  4.]])"
      ]
     },
     "execution_count": 12,
     "metadata": {},
     "output_type": "execute_result"
    }
   ],
   "source": [
    "#triu\n",
    "triu_array = np.empty((2,2))\n",
    "for i in range(0,r):\n",
    "    for j in range(0,c):\n",
    "        if i >= j:\n",
    "            triu_array[i,j] = narray_1[i,j]           \n",
    "triu_array  "
   ]
  },
  {
   "cell_type": "code",
   "execution_count": null,
   "metadata": {
    "collapsed": true,
    "deletable": true,
    "editable": true
   },
   "outputs": [],
   "source": []
  },
  {
   "cell_type": "code",
   "execution_count": null,
   "metadata": {
    "collapsed": true,
    "deletable": true,
    "editable": true
   },
   "outputs": [],
   "source": []
  }
 ],
 "metadata": {
  "kernelspec": {
   "display_name": "Python 3",
   "language": "python",
   "name": "python3"
  },
  "language_info": {
   "codemirror_mode": {
    "name": "ipython",
    "version": 3
   },
   "file_extension": ".py",
   "mimetype": "text/x-python",
   "name": "python",
   "nbconvert_exporter": "python",
   "pygments_lexer": "ipython3",
   "version": "3.5.2"
  }
 },
 "nbformat": 4,
 "nbformat_minor": 2
}
